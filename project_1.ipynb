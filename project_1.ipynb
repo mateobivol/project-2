{
  "nbformat": 4,
  "nbformat_minor": 0,
  "metadata": {
    "colab": {
      "name": "project 1",
      "provenance": [],
      "collapsed_sections": [],
      "authorship_tag": "ABX9TyOowItNhGUsb06ubQi8LrLY",
      "include_colab_link": true
    },
    "kernelspec": {
      "name": "python3",
      "display_name": "Python 3"
    },
    "language_info": {
      "name": "python"
    }
  },
  "cells": [
    {
      "cell_type": "markdown",
      "metadata": {
        "id": "view-in-github",
        "colab_type": "text"
      },
      "source": [
        "<a href=\"https://colab.research.google.com/github/mateobivol/project-2/blob/main/project_1.ipynb\" target=\"_parent\"><img src=\"https://colab.research.google.com/assets/colab-badge.svg\" alt=\"Open In Colab\"/></a>"
      ]
    },
    {
      "cell_type": "code",
      "execution_count": 1,
      "metadata": {
        "id": "ko_tyepu-nMl"
      },
      "outputs": [],
      "source": [
        "import requests\n",
        "import pandas as pd\n",
        "url = 'https://www.alphavantage.co/query?function=TIME_SERIES_WEEKLY&symbol=IBM&apikey=A601RIXZHX349L2M'\n",
        "r = requests.get(url)\n",
        "data= r.json()\n",
        "stock=pd.DataFrame.from_dict(data[\"Weekly Time Series\"], orient=\"index\")\n",
        "stock.reset_index(inplace=True)\n",
        "stock.rename(columns={\"1. open\":\"open\",\"2. high\":\"high\", \"3. low\":\"low\",\"4. close\":\"close\",\"5. volume\":\"volume\",\"index\":\"date\"},inplace=True)\n",
        "stock[\"ticker\"]=\"IBM\"\n",
        " \n",
        "def stock(ticker=True):\n",
        "  url = 'https://www.alphavantage.co/query?function=TIME_SERIES_WEEKLY&symbol=' +ticker+\"&apikey=A601RIXZHX349L2M\"\n",
        "  #print(url)\n",
        "  r = requests.get(url)\n",
        "  data= r.json()\n",
        "  stock=pd.DataFrame.from_dict(data[\"Weekly Time Series\"], orient=\"index\")\n",
        "  stock.reset_index(inplace=True)\n",
        "  stock.rename(columns={\"1. open\": \"open\", \"2. high\": \"high\", \"3. low\": \"low\", \"4. close\": \"close\", \"5. volume\": \"volume\", \"index\": \"date\"},inplace=True)\n",
        "  stock[\"ticker\"]=ticker\n",
        "  return stock\n",
        "stocks= stock(ticker=\"A\")\n",
        "  "
      ]
    },
    {
      "cell_type": "code",
      "source": [
        "stocks= stock(ticker=\"A\")\n",
        "stocks"
      ],
      "metadata": {
        "colab": {
          "base_uri": "https://localhost:8080/",
          "height": 419
        },
        "id": "OO81sldFrZys",
        "outputId": "d662c232-85a4-4014-db3f-34cbd4e5131d"
      },
      "execution_count": 9,
      "outputs": [
        {
          "output_type": "execute_result",
          "data": {
            "text/plain": [
              "            date      open      high       low     close    volume ticker\n",
              "0     2022-04-07  133.8600  137.0800  129.8600  135.9300   7365395      A\n",
              "1     2022-04-01  136.2500  139.3200  131.8600  133.9700   9129848      A\n",
              "2     2022-03-25  137.6300  140.1997  133.4482  135.7100   7306547      A\n",
              "3     2022-03-18  131.0000  139.3930  126.9000  139.1200   8971864      A\n",
              "4     2022-03-11  133.5500  136.4400  127.5400  130.3100  10306468      A\n",
              "...          ...       ...       ...       ...       ...       ...    ...\n",
              "1163  1999-12-23   46.2500   50.0000   46.0000   49.7500   5380200      A\n",
              "1164  1999-12-17   45.5000   48.0000   41.0000   45.9400  11129600      A\n",
              "1165  1999-12-10   45.2500   46.4400   44.3100   44.7500   7187700      A\n",
              "1166  1999-12-03   41.0000   45.6900   40.5600   44.5000  12484700      A\n",
              "1167  1999-11-26   41.3100   44.0000   40.0000   41.1900  13681100      A\n",
              "\n",
              "[1168 rows x 7 columns]"
            ],
            "text/html": [
              "\n",
              "  <div id=\"df-c4fedbf9-fac2-4a04-a61d-e223690e0c6b\">\n",
              "    <div class=\"colab-df-container\">\n",
              "      <div>\n",
              "<style scoped>\n",
              "    .dataframe tbody tr th:only-of-type {\n",
              "        vertical-align: middle;\n",
              "    }\n",
              "\n",
              "    .dataframe tbody tr th {\n",
              "        vertical-align: top;\n",
              "    }\n",
              "\n",
              "    .dataframe thead th {\n",
              "        text-align: right;\n",
              "    }\n",
              "</style>\n",
              "<table border=\"1\" class=\"dataframe\">\n",
              "  <thead>\n",
              "    <tr style=\"text-align: right;\">\n",
              "      <th></th>\n",
              "      <th>date</th>\n",
              "      <th>open</th>\n",
              "      <th>high</th>\n",
              "      <th>low</th>\n",
              "      <th>close</th>\n",
              "      <th>volume</th>\n",
              "      <th>ticker</th>\n",
              "    </tr>\n",
              "  </thead>\n",
              "  <tbody>\n",
              "    <tr>\n",
              "      <th>0</th>\n",
              "      <td>2022-04-07</td>\n",
              "      <td>133.8600</td>\n",
              "      <td>137.0800</td>\n",
              "      <td>129.8600</td>\n",
              "      <td>135.9300</td>\n",
              "      <td>7365395</td>\n",
              "      <td>A</td>\n",
              "    </tr>\n",
              "    <tr>\n",
              "      <th>1</th>\n",
              "      <td>2022-04-01</td>\n",
              "      <td>136.2500</td>\n",
              "      <td>139.3200</td>\n",
              "      <td>131.8600</td>\n",
              "      <td>133.9700</td>\n",
              "      <td>9129848</td>\n",
              "      <td>A</td>\n",
              "    </tr>\n",
              "    <tr>\n",
              "      <th>2</th>\n",
              "      <td>2022-03-25</td>\n",
              "      <td>137.6300</td>\n",
              "      <td>140.1997</td>\n",
              "      <td>133.4482</td>\n",
              "      <td>135.7100</td>\n",
              "      <td>7306547</td>\n",
              "      <td>A</td>\n",
              "    </tr>\n",
              "    <tr>\n",
              "      <th>3</th>\n",
              "      <td>2022-03-18</td>\n",
              "      <td>131.0000</td>\n",
              "      <td>139.3930</td>\n",
              "      <td>126.9000</td>\n",
              "      <td>139.1200</td>\n",
              "      <td>8971864</td>\n",
              "      <td>A</td>\n",
              "    </tr>\n",
              "    <tr>\n",
              "      <th>4</th>\n",
              "      <td>2022-03-11</td>\n",
              "      <td>133.5500</td>\n",
              "      <td>136.4400</td>\n",
              "      <td>127.5400</td>\n",
              "      <td>130.3100</td>\n",
              "      <td>10306468</td>\n",
              "      <td>A</td>\n",
              "    </tr>\n",
              "    <tr>\n",
              "      <th>...</th>\n",
              "      <td>...</td>\n",
              "      <td>...</td>\n",
              "      <td>...</td>\n",
              "      <td>...</td>\n",
              "      <td>...</td>\n",
              "      <td>...</td>\n",
              "      <td>...</td>\n",
              "    </tr>\n",
              "    <tr>\n",
              "      <th>1163</th>\n",
              "      <td>1999-12-23</td>\n",
              "      <td>46.2500</td>\n",
              "      <td>50.0000</td>\n",
              "      <td>46.0000</td>\n",
              "      <td>49.7500</td>\n",
              "      <td>5380200</td>\n",
              "      <td>A</td>\n",
              "    </tr>\n",
              "    <tr>\n",
              "      <th>1164</th>\n",
              "      <td>1999-12-17</td>\n",
              "      <td>45.5000</td>\n",
              "      <td>48.0000</td>\n",
              "      <td>41.0000</td>\n",
              "      <td>45.9400</td>\n",
              "      <td>11129600</td>\n",
              "      <td>A</td>\n",
              "    </tr>\n",
              "    <tr>\n",
              "      <th>1165</th>\n",
              "      <td>1999-12-10</td>\n",
              "      <td>45.2500</td>\n",
              "      <td>46.4400</td>\n",
              "      <td>44.3100</td>\n",
              "      <td>44.7500</td>\n",
              "      <td>7187700</td>\n",
              "      <td>A</td>\n",
              "    </tr>\n",
              "    <tr>\n",
              "      <th>1166</th>\n",
              "      <td>1999-12-03</td>\n",
              "      <td>41.0000</td>\n",
              "      <td>45.6900</td>\n",
              "      <td>40.5600</td>\n",
              "      <td>44.5000</td>\n",
              "      <td>12484700</td>\n",
              "      <td>A</td>\n",
              "    </tr>\n",
              "    <tr>\n",
              "      <th>1167</th>\n",
              "      <td>1999-11-26</td>\n",
              "      <td>41.3100</td>\n",
              "      <td>44.0000</td>\n",
              "      <td>40.0000</td>\n",
              "      <td>41.1900</td>\n",
              "      <td>13681100</td>\n",
              "      <td>A</td>\n",
              "    </tr>\n",
              "  </tbody>\n",
              "</table>\n",
              "<p>1168 rows × 7 columns</p>\n",
              "</div>\n",
              "      <button class=\"colab-df-convert\" onclick=\"convertToInteractive('df-c4fedbf9-fac2-4a04-a61d-e223690e0c6b')\"\n",
              "              title=\"Convert this dataframe to an interactive table.\"\n",
              "              style=\"display:none;\">\n",
              "        \n",
              "  <svg xmlns=\"http://www.w3.org/2000/svg\" height=\"24px\"viewBox=\"0 0 24 24\"\n",
              "       width=\"24px\">\n",
              "    <path d=\"M0 0h24v24H0V0z\" fill=\"none\"/>\n",
              "    <path d=\"M18.56 5.44l.94 2.06.94-2.06 2.06-.94-2.06-.94-.94-2.06-.94 2.06-2.06.94zm-11 1L8.5 8.5l.94-2.06 2.06-.94-2.06-.94L8.5 2.5l-.94 2.06-2.06.94zm10 10l.94 2.06.94-2.06 2.06-.94-2.06-.94-.94-2.06-.94 2.06-2.06.94z\"/><path d=\"M17.41 7.96l-1.37-1.37c-.4-.4-.92-.59-1.43-.59-.52 0-1.04.2-1.43.59L10.3 9.45l-7.72 7.72c-.78.78-.78 2.05 0 2.83L4 21.41c.39.39.9.59 1.41.59.51 0 1.02-.2 1.41-.59l7.78-7.78 2.81-2.81c.8-.78.8-2.07 0-2.86zM5.41 20L4 18.59l7.72-7.72 1.47 1.35L5.41 20z\"/>\n",
              "  </svg>\n",
              "      </button>\n",
              "      \n",
              "  <style>\n",
              "    .colab-df-container {\n",
              "      display:flex;\n",
              "      flex-wrap:wrap;\n",
              "      gap: 12px;\n",
              "    }\n",
              "\n",
              "    .colab-df-convert {\n",
              "      background-color: #E8F0FE;\n",
              "      border: none;\n",
              "      border-radius: 50%;\n",
              "      cursor: pointer;\n",
              "      display: none;\n",
              "      fill: #1967D2;\n",
              "      height: 32px;\n",
              "      padding: 0 0 0 0;\n",
              "      width: 32px;\n",
              "    }\n",
              "\n",
              "    .colab-df-convert:hover {\n",
              "      background-color: #E2EBFA;\n",
              "      box-shadow: 0px 1px 2px rgba(60, 64, 67, 0.3), 0px 1px 3px 1px rgba(60, 64, 67, 0.15);\n",
              "      fill: #174EA6;\n",
              "    }\n",
              "\n",
              "    [theme=dark] .colab-df-convert {\n",
              "      background-color: #3B4455;\n",
              "      fill: #D2E3FC;\n",
              "    }\n",
              "\n",
              "    [theme=dark] .colab-df-convert:hover {\n",
              "      background-color: #434B5C;\n",
              "      box-shadow: 0px 1px 3px 1px rgba(0, 0, 0, 0.15);\n",
              "      filter: drop-shadow(0px 1px 2px rgba(0, 0, 0, 0.3));\n",
              "      fill: #FFFFFF;\n",
              "    }\n",
              "  </style>\n",
              "\n",
              "      <script>\n",
              "        const buttonEl =\n",
              "          document.querySelector('#df-c4fedbf9-fac2-4a04-a61d-e223690e0c6b button.colab-df-convert');\n",
              "        buttonEl.style.display =\n",
              "          google.colab.kernel.accessAllowed ? 'block' : 'none';\n",
              "\n",
              "        async function convertToInteractive(key) {\n",
              "          const element = document.querySelector('#df-c4fedbf9-fac2-4a04-a61d-e223690e0c6b');\n",
              "          const dataTable =\n",
              "            await google.colab.kernel.invokeFunction('convertToInteractive',\n",
              "                                                     [key], {});\n",
              "          if (!dataTable) return;\n",
              "\n",
              "          const docLinkHtml = 'Like what you see? Visit the ' +\n",
              "            '<a target=\"_blank\" href=https://colab.research.google.com/notebooks/data_table.ipynb>data table notebook</a>'\n",
              "            + ' to learn more about interactive tables.';\n",
              "          element.innerHTML = '';\n",
              "          dataTable['output_type'] = 'display_data';\n",
              "          await google.colab.output.renderOutput(dataTable, element);\n",
              "          const docLink = document.createElement('div');\n",
              "          docLink.innerHTML = docLinkHtml;\n",
              "          element.appendChild(docLink);\n",
              "        }\n",
              "      </script>\n",
              "    </div>\n",
              "  </div>\n",
              "  "
            ]
          },
          "metadata": {},
          "execution_count": 9
        }
      ]
    },
    {
      "cell_type": "code",
      "source": [
        "stocks['date']"
      ],
      "metadata": {
        "colab": {
          "base_uri": "https://localhost:8080/"
        },
        "id": "KZAT1grba8gY",
        "outputId": "f8a76588-a6b6-4a7e-b982-3679fab053ff"
      },
      "execution_count": 4,
      "outputs": [
        {
          "output_type": "execute_result",
          "data": {
            "text/plain": [
              "0       2022-04-07\n",
              "1       2022-04-01\n",
              "2       2022-03-25\n",
              "3       2022-03-18\n",
              "4       2022-03-11\n",
              "           ...    \n",
              "1163    1999-12-23\n",
              "1164    1999-12-17\n",
              "1165    1999-12-10\n",
              "1166    1999-12-03\n",
              "1167    1999-11-26\n",
              "Name: date, Length: 1168, dtype: object"
            ]
          },
          "metadata": {},
          "execution_count": 4
        }
      ]
    },
    {
      "cell_type": "code",
      "source": [
        "stocks['date']= pd.to_datetime(stocks['date'])\n",
        "stocks.dtypes\n",
        "stocks.columns"
      ],
      "metadata": {
        "colab": {
          "base_uri": "https://localhost:8080/"
        },
        "id": "t_XkgpT_cDxz",
        "outputId": "d2dbebf9-6c81-4691-8b38-8b9572ea296c"
      },
      "execution_count": 5,
      "outputs": [
        {
          "output_type": "execute_result",
          "data": {
            "text/plain": [
              "Index(['date', 'open', 'high', 'low', 'close', 'volume', 'ticker'], dtype='object')"
            ]
          },
          "metadata": {},
          "execution_count": 5
        }
      ]
    },
    {
      "cell_type": "code",
      "source": [
        "column_names= stocks.columns\n",
        "for i in column_names[1:6]:\n",
        "  stocks[i]= stocks[i].astype('float')\n",
        "stocks.dtypes"
      ],
      "metadata": {
        "colab": {
          "base_uri": "https://localhost:8080/"
        },
        "id": "juAQ09z4eA0Y",
        "outputId": "67c91dc2-845c-4322-b7f0-9980a5ee926c"
      },
      "execution_count": 6,
      "outputs": [
        {
          "output_type": "execute_result",
          "data": {
            "text/plain": [
              "date      datetime64[ns]\n",
              "open             float64\n",
              "high             float64\n",
              "low              float64\n",
              "close            float64\n",
              "volume           float64\n",
              "ticker            object\n",
              "dtype: object"
            ]
          },
          "metadata": {},
          "execution_count": 6
        }
      ]
    },
    {
      "cell_type": "code",
      "source": [
        "import matplotlib.pyplot as plt\n",
        "\n",
        "time= [2021, 2016, 1999]\n",
        "\n",
        "IBM_monthly_stock_price = [134.9900, 167.9800, 110.7500]\n",
        "IBM_monthly_stock_price2 = [129.9500, 165.5000, 106.6200]\n",
        "\n",
        "plt.plot(time, IBM_monthly_stock_price, label=\"high\")\n",
        "plt.plot(time, IBM_monthly_stock_price2, label=\"low\")\n",
        "plt.title(\"IBM monthly stock price versus time\")\n",
        "plt.xlabel('time')\n",
        "plt.ylabel('IBM monthly stock price')\n",
        "plt.legend()\n",
        "plt.show()"
      ],
      "metadata": {
        "colab": {
          "base_uri": "https://localhost:8080/",
          "height": 295
        },
        "id": "9_tfWzLL-9de",
        "outputId": "b8d7b3b7-aeec-4d5c-c0b3-b5419a78cf79"
      },
      "execution_count": 10,
      "outputs": [
        {
          "output_type": "display_data",
          "data": {
            "text/plain": [
              "<Figure size 432x288 with 1 Axes>"
            ],
            "image/png": "[encoded data removed]"
          },
          "metadata": {
            "needs_background": "light"
          }
        }
      ]
    }
  ]
}